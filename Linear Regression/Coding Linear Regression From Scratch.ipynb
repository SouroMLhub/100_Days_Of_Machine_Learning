{
 "cells": [
  {
   "cell_type": "code",
   "execution_count": 11,
   "metadata": {},
   "outputs": [],
   "source": [
    "import numpy as np\n",
    "from sklearn.model_selection import train_test_split"
   ]
  },
  {
   "cell_type": "code",
   "execution_count": 9,
   "metadata": {},
   "outputs": [
    {
     "data": {
      "text/plain": [
       "(100, 2)"
      ]
     },
     "execution_count": 9,
     "metadata": {},
     "output_type": "execute_result"
    }
   ],
   "source": [
    "data=np.loadtxt(\"Data/data.csv\",delimiter=\",\")\n",
    "data.shape"
   ]
  },
  {
   "cell_type": "code",
   "execution_count": 10,
   "metadata": {},
   "outputs": [],
   "source": [
    "feature = data[:, 0]\n",
    "target = data[:, 1]"
   ]
  },
  {
   "cell_type": "code",
   "execution_count": 12,
   "metadata": {},
   "outputs": [],
   "source": [
    "feature_train, feature_test, target_train, target_test =train_test_split(feature, target, test_size = 0.3) "
   ]
  },
  {
   "cell_type": "code",
   "execution_count": 13,
   "metadata": {},
   "outputs": [],
   "source": [
    "def fit(feature_train, target_train):\n",
    "    numa = (feature_train*target_train).mean() - feature_train.mean() * target_train.mean()\n",
    "    deno = (feature_train**2).mean() - feature_train.mean()**2\n",
    "    m = numa/deno\n",
    "    c = target_train.mean() - m * feature_train.mean()\n",
    "    return m, c"
   ]
  },
  {
   "cell_type": "code",
   "execution_count": 14,
   "metadata": {},
   "outputs": [],
   "source": [
    "def predict(feature_train, m, c):\n",
    "    return m * feature_train + c"
   ]
  },
  {
   "cell_type": "code",
   "execution_count": 15,
   "metadata": {},
   "outputs": [],
   "source": [
    "def score(target_pred, target_test):\n",
    "    u = ((target_test - target_pred)**2).sum()\n",
    "    v = ((target_test - target_test.mean())**2).sum()\n",
    "    return 1 - u/v"
   ]
  },
  {
   "cell_type": "code",
   "execution_count": 16,
   "metadata": {},
   "outputs": [],
   "source": [
    "def cost(x, y, m, c):\n",
    "    return (((y - m * x + c)**2).mean())"
   ]
  },
  {
   "cell_type": "code",
   "execution_count": 19,
   "metadata": {},
   "outputs": [
    {
     "name": "stdout",
     "output_type": "stream",
     "text": [
      "Test Score: 0.41657526945761214\n",
      "Train Score: 0.40256954794752253\n",
      "M, C 1.4177469995449894 2.824418283954998\n",
      "Cost on training data 139.2200655971184\n"
     ]
    }
   ],
   "source": [
    "m, c = fit(feature_train, target_train)\n",
    "#for test data\n",
    "feature_predict_test = predict(feature_test, m, c)\n",
    "print(\"Test Score:\" ,score(target_test, feature_predict))\n",
    "\n",
    "#for train data\n",
    "feature_predict_train = predict(feature_train, m, c)\n",
    "print(\"Train Score:\" ,score(target_train, feature_predict_train))\n",
    "print(\"M, C\", m, c)\n",
    "print(\"Cost on training data\", cost(feature_train, target_train, m, c))"
   ]
  }
 ],
 "metadata": {
  "kernelspec": {
   "display_name": "Python 3",
   "language": "python",
   "name": "python3"
  },
  "language_info": {
   "codemirror_mode": {
    "name": "ipython",
    "version": 3
   },
   "file_extension": ".py",
   "mimetype": "text/x-python",
   "name": "python",
   "nbconvert_exporter": "python",
   "pygments_lexer": "ipython3",
   "version": "3.7.3"
  }
 },
 "nbformat": 4,
 "nbformat_minor": 2
}
