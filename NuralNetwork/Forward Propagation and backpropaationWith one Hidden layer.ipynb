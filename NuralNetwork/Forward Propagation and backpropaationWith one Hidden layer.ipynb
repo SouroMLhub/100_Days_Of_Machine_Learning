{
 "cells": [
  {
   "cell_type": "code",
   "execution_count": 1,
   "metadata": {},
   "outputs": [],
   "source": [
    "import numpy as np"
   ]
  },
  {
   "cell_type": "code",
   "execution_count": 2,
   "metadata": {},
   "outputs": [
    {
     "data": {
      "text/plain": [
       "((4, 2), (4, 1))"
      ]
     },
     "execution_count": 2,
     "metadata": {},
     "output_type": "execute_result"
    }
   ],
   "source": [
    "x = np.array([[0,0], [0,1], [1,0], [1,1]])\n",
    "y = np.array([[0, 0, 0, 1]]).T\n",
    "x.shape, y.shape"
   ]
  },
  {
   "cell_type": "code",
   "execution_count": 3,
   "metadata": {},
   "outputs": [],
   "source": [
    "def sig(z):\n",
    "    return 1/(1+ np.exp(-z))"
   ]
  },
  {
   "cell_type": "code",
   "execution_count": 4,
   "metadata": {},
   "outputs": [],
   "source": [
    "def derivativeSig(z):\n",
    "    return sig(z)*(1-sig(z))"
   ]
  },
  {
   "cell_type": "code",
   "execution_count": 5,
   "metadata": {},
   "outputs": [],
   "source": [
    "wh = 2* np.random.random((2,2))  -1 #(2,2) no of units in the input layer and number of units in the hidden layer\n",
    "bh = 2 * np.random.random((1, 2)) - 1\n",
    "wo = 2 * np.random.random((2, 1)) - 1\n",
    "bo = np.random.random((1, 1)) - 1\n",
    "lr = 0.1"
   ]
  },
  {
   "cell_type": "code",
   "execution_count": 12,
   "metadata": {},
   "outputs": [
    {
     "data": {
      "text/plain": [
       "(array([[0.00130127],\n",
       "        [0.02549028],\n",
       "        [0.02576761],\n",
       "        [0.9613542 ]]), array([[ 1.90665148, -3.25812043],\n",
       "        [ 1.82599373, -3.32016643]]), array([[-2.20306728,  4.57649681]]), array([[ 4.59491594],\n",
       "        [-7.50727857]]), array([[0.3306183]]))"
      ]
     },
     "execution_count": 12,
     "metadata": {},
     "output_type": "execute_result"
    }
   ],
   "source": [
    "for iter  in range(10000):\n",
    "    output0 = x\n",
    "    inputHidden = np.dot(output0, wh)+bh\n",
    "    outputHidden = sig(inputHidden)\n",
    "    inputForOutputLayer = np.dot(outputHidden, wo)+bo\n",
    "    output = sig(inputForOutputLayer)\n",
    "\n",
    "    first_term_output_layer = output - y\n",
    "    second_term_output_layer = derivativeSig(inputForOutputLayer)\n",
    "    first_two_output_layer = first_term_output_layer*second_term_output_layer\n",
    "\n",
    "    first_term_hidden_layer = np.dot(first_two_output_layer, wo.T)\n",
    "    second_term_hidden_layer = derivativeSig(inputHidden)\n",
    "    first_two_hidden_layer = first_term_hidden_layer * second_term_hidden_layer\n",
    "\n",
    "    changes_ouput = np.dot(outputHidden.T, first_two_output_layer)\n",
    "    changes_output_bias = np.sum(first_two_output_layer,axis = 0, keepdims = True)\n",
    "\n",
    "    changes_hidden = np.dot(output0.T, first_two_hidden_layer)\n",
    "    changes_hidden_bias = np.sum(first_two_hidden_layer,axis = 0, keepdims = True)\n",
    "\n",
    "    wo = wo- lr*changes_ouput\n",
    "    bo = bo - lr*changes_output_bias\n",
    "\n",
    "    wh = wh- lr*changes_hidden\n",
    "    bh = bh - lr*changes_hidden_bias\n",
    "    \n",
    "output0 = x\n",
    "inputHidden = np.dot(output0, wh)+bh\n",
    "outputHidden = sig(inputHidden)\n",
    "inputForOutputLayer = np.dot(outputHidden, wo)+bo\n",
    "output = sig(inputForOutputLayer)\n",
    "output, wh, bh, wo, bo"
   ]
  },
  {
   "cell_type": "code",
   "execution_count": null,
   "metadata": {},
   "outputs": [],
   "source": []
  }
 ],
 "metadata": {
  "kernelspec": {
   "display_name": "Python 3",
   "language": "python",
   "name": "python3"
  },
  "language_info": {
   "codemirror_mode": {
    "name": "ipython",
    "version": 3
   },
   "file_extension": ".py",
   "mimetype": "text/x-python",
   "name": "python",
   "nbconvert_exporter": "python",
   "pygments_lexer": "ipython3",
   "version": "3.7.3"
  }
 },
 "nbformat": 4,
 "nbformat_minor": 2
}
