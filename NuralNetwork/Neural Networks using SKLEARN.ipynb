{
 "cells": [
  {
   "cell_type": "code",
   "execution_count": 16,
   "metadata": {},
   "outputs": [],
   "source": [
    "from sklearn.neural_network import MLPClassifier\n",
    "from sklearn import datasets\n",
    "from sklearn.model_selection import train_test_split"
   ]
  },
  {
   "cell_type": "code",
   "execution_count": 17,
   "metadata": {},
   "outputs": [],
   "source": [
    "iris = datasets.load_iris()"
   ]
  },
  {
   "cell_type": "code",
   "execution_count": 18,
   "metadata": {},
   "outputs": [],
   "source": [
    "x = iris.data\n",
    "y = iris.target"
   ]
  },
  {
   "cell_type": "code",
   "execution_count": 19,
   "metadata": {},
   "outputs": [],
   "source": [
    "x_train, x_test, y_train, y_test = train_test_split(x, y)"
   ]
  },
  {
   "cell_type": "code",
   "execution_count": 29,
   "metadata": {},
   "outputs": [],
   "source": [
    "clf = MLPClassifier(hidden_layer_sizes = (20, ), max_iter = 3000)#multi layer perception"
   ]
  },
  {
   "cell_type": "code",
   "execution_count": 30,
   "metadata": {},
   "outputs": [
    {
     "data": {
      "text/plain": [
       "MLPClassifier(activation='relu', alpha=0.0001, batch_size='auto', beta_1=0.9,\n",
       "              beta_2=0.999, early_stopping=False, epsilon=1e-08,\n",
       "              hidden_layer_sizes=(20,), learning_rate='constant',\n",
       "              learning_rate_init=0.001, max_iter=3000, momentum=0.9,\n",
       "              n_iter_no_change=10, nesterovs_momentum=True, power_t=0.5,\n",
       "              random_state=None, shuffle=True, solver='adam', tol=0.0001,\n",
       "              validation_fraction=0.1, verbose=False, warm_start=False)"
      ]
     },
     "execution_count": 30,
     "metadata": {},
     "output_type": "execute_result"
    }
   ],
   "source": [
    "clf.fit(x_train, y_train)"
   ]
  },
  {
   "cell_type": "code",
   "execution_count": 31,
   "metadata": {},
   "outputs": [
    {
     "data": {
      "text/plain": [
       "1.0"
      ]
     },
     "execution_count": 31,
     "metadata": {},
     "output_type": "execute_result"
    }
   ],
   "source": [
    "clf.score(x_test, y_test)"
   ]
  },
  {
   "cell_type": "code",
   "execution_count": 33,
   "metadata": {},
   "outputs": [
    {
     "data": {
      "text/plain": [
       "[array([[-8.15271071e-02,  3.97122557e-01,  1.62839924e-01,\n",
       "         -7.49151602e-02,  1.00387749e-01,  1.63306781e-01,\n",
       "         -1.11122175e-05,  4.30616762e-01,  2.73675048e-01,\n",
       "         -1.31950610e-04, -4.28047786e-04,  4.30775670e-24,\n",
       "          3.86331775e-01,  3.69312657e-01,  2.81317575e-01,\n",
       "          2.60736438e-01, -1.77681919e-02,  3.01534692e-01,\n",
       "          6.47716770e-01, -8.57167112e-02],\n",
       "        [ 2.45144617e-01,  4.08060210e-01,  3.30566566e-01,\n",
       "         -4.94868138e-01,  2.97365005e-03,  2.12399497e-01,\n",
       "         -1.45446003e-04,  4.92502947e-01, -2.82598307e-01,\n",
       "         -7.30330404e-05,  2.54794313e-05, -9.51399850e-05,\n",
       "         -3.07282035e-01,  1.58302818e-01, -2.86109651e-01,\n",
       "         -2.23153277e-01, -7.19466002e-02,  3.35852112e-01,\n",
       "          1.01816878e+00,  3.29276619e-01],\n",
       "        [ 1.25767454e-01,  2.60321614e-01, -4.20671131e-01,\n",
       "          4.51263107e-01,  5.23763492e-01,  2.81169040e-01,\n",
       "          2.52573276e-07, -6.61333593e-01,  8.97271443e-02,\n",
       "         -1.75715227e-15, -2.06137133e-08,  3.59687658e-25,\n",
       "          2.23753083e-02,  2.09401491e-01,  4.12946551e-01,\n",
       "          6.91639700e-01, -1.56929969e-02, -8.02727202e-01,\n",
       "         -1.12415102e+00, -3.65535192e-01],\n",
       "        [-4.02324844e-01,  2.92624660e-01, -1.24733484e-01,\n",
       "          3.66581432e-01, -9.12924209e-02, -3.88145619e-01,\n",
       "         -4.51454331e-06, -4.17246761e-01, -4.48608399e-01,\n",
       "          2.24173980e-17, -7.26614931e-28,  1.04516464e-08,\n",
       "          3.94707563e-01,  3.71055912e-01, -1.92873059e-01,\n",
       "          3.96792680e-01, -8.00167564e-02,  4.91837807e-02,\n",
       "         -1.10667185e+00,  3.57656356e-01]]),\n",
       " array([[ 4.20245036e-01,  3.73997285e-01,  3.00837607e-01],\n",
       "        [ 1.93437651e-01, -4.91022357e-02,  2.50595286e-01],\n",
       "        [ 4.15681060e-01, -2.82197577e-01, -3.33067152e-01],\n",
       "        [ 1.56240528e-02, -7.06980578e-01,  6.31863966e-01],\n",
       "        [-6.36740594e-01, -3.70732840e-01, -3.72431818e-01],\n",
       "        [ 5.59896040e-01,  3.56076417e-02,  3.37923306e-01],\n",
       "        [ 2.40097802e-03,  6.32815258e-07, -4.49700212e-04],\n",
       "        [ 8.86453903e-01,  7.08874046e-01, -9.18870188e-01],\n",
       "        [-3.04931781e-01,  1.02823467e-01, -3.85282950e-01],\n",
       "        [-2.13169885e-06, -2.57768697e-17, -3.74579706e-07],\n",
       "        [-1.36295166e-21, -3.58006270e-05,  3.85644274e-15],\n",
       "        [ 5.94804017e-03, -9.51363997e-04,  6.82939519e-17],\n",
       "        [-4.22762833e-01,  1.92640721e-01, -6.89564199e-03],\n",
       "        [-1.82085400e-01,  4.18760228e-01,  3.28090585e-01],\n",
       "        [-3.78337417e-01,  2.36642694e-01,  6.78192655e-03],\n",
       "        [-4.87323788e-01,  1.70926433e-01,  5.44474444e-01],\n",
       "        [-1.86410865e-04, -8.64115851e-05,  2.43413551e-06],\n",
       "        [ 9.00941220e-01, -6.51450751e-01,  5.80592734e-02],\n",
       "        [ 1.22794057e+00,  9.88974733e-01, -1.18321505e+00],\n",
       "        [-1.86741127e-01, -3.22688654e-01,  4.20214377e-01]])]"
      ]
     },
     "execution_count": 33,
     "metadata": {},
     "output_type": "execute_result"
    }
   ],
   "source": [
    "clf.coefs_"
   ]
  },
  {
   "cell_type": "code",
   "execution_count": 34,
   "metadata": {},
   "outputs": [
    {
     "data": {
      "text/plain": [
       "2"
      ]
     },
     "execution_count": 34,
     "metadata": {},
     "output_type": "execute_result"
    }
   ],
   "source": [
    "#2 layers\n",
    "len(clf.coefs_)"
   ]
  },
  {
   "cell_type": "code",
   "execution_count": 36,
   "metadata": {},
   "outputs": [
    {
     "data": {
      "text/plain": [
       "((4, 20), (20, 3))"
      ]
     },
     "execution_count": 36,
     "metadata": {},
     "output_type": "execute_result"
    }
   ],
   "source": [
    "#4 feature 20 hidden layer unit\n",
    "clf.coefs_[0].shape, clf.coefs_[1].shape"
   ]
  },
  {
   "cell_type": "code",
   "execution_count": 38,
   "metadata": {},
   "outputs": [
    {
     "data": {
      "text/plain": [
       "((20,), (3,))"
      ]
     },
     "execution_count": 38,
     "metadata": {},
     "output_type": "execute_result"
    }
   ],
   "source": [
    "#bias\n",
    "clf.intercepts_[0].shape, clf.intercepts_[1].shape"
   ]
  },
  {
   "cell_type": "code",
   "execution_count": null,
   "metadata": {},
   "outputs": [],
   "source": []
  },
  {
   "cell_type": "code",
   "execution_count": null,
   "metadata": {},
   "outputs": [],
   "source": []
  }
 ],
 "metadata": {
  "kernelspec": {
   "display_name": "Python 3",
   "language": "python",
   "name": "python3"
  },
  "language_info": {
   "codemirror_mode": {
    "name": "ipython",
    "version": 3
   },
   "file_extension": ".py",
   "mimetype": "text/x-python",
   "name": "python",
   "nbconvert_exporter": "python",
   "pygments_lexer": "ipython3",
   "version": "3.7.3"
  }
 },
 "nbformat": 4,
 "nbformat_minor": 2
}
