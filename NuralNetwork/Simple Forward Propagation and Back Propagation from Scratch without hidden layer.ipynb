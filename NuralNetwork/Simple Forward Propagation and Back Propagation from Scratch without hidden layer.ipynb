{
 "cells": [
  {
   "cell_type": "code",
   "execution_count": 2,
   "metadata": {},
   "outputs": [],
   "source": [
    "import numpy as np"
   ]
  },
  {
   "cell_type": "code",
   "execution_count": 3,
   "metadata": {},
   "outputs": [
    {
     "data": {
      "text/plain": [
       "((4, 2), (4, 1))"
      ]
     },
     "execution_count": 3,
     "metadata": {},
     "output_type": "execute_result"
    }
   ],
   "source": [
    "x = np.array([[0,0], [0,1], [1,0], [1,1]])\n",
    "y = np.array([[0, 0, 0, 1]]).T\n",
    "x.shape, y.shape"
   ]
  },
  {
   "cell_type": "code",
   "execution_count": 5,
   "metadata": {},
   "outputs": [],
   "source": [
    "def sig(z):\n",
    "    return 1/(1+ np.exp(-z))"
   ]
  },
  {
   "cell_type": "code",
   "execution_count": 6,
   "metadata": {},
   "outputs": [],
   "source": [
    "def derivativeSig(z):\n",
    "    return sig(z)*(1-sig(z))"
   ]
  },
  {
   "cell_type": "code",
   "execution_count": 10,
   "metadata": {},
   "outputs": [
    {
     "data": {
      "text/plain": [
       "(array([[0.97393695],\n",
       "        [0.05161523]]), array([0.06226284]))"
      ]
     },
     "execution_count": 10,
     "metadata": {},
     "output_type": "execute_result"
    }
   ],
   "source": [
    "weights =2* np.random.random((2,1))  -1\n",
    "bias = 2 * np.random.random(1) - 1\n",
    "lr = 0.1\n",
    "weights, bias"
   ]
  },
  {
   "cell_type": "code",
   "execution_count": 8,
   "metadata": {},
   "outputs": [
    {
     "data": {
      "text/plain": [
       "(array([[5.46656719],\n",
       "        [5.46656719]]), array([-8.29260022]), array([[2.50299951e-04],\n",
       "        [5.59335046e-02],\n",
       "        [5.59335047e-02],\n",
       "        [9.33425166e-01]]))"
      ]
     },
     "execution_count": 8,
     "metadata": {},
     "output_type": "execute_result"
    }
   ],
   "source": [
    "for iter in range(10000):\n",
    "    output0 =x\n",
    "    output = sig(np.dot(output0, weights)+bias)\n",
    "\n",
    "    first_term = output - y\n",
    "    input_for_last_layer = np.dot(output0, weights)+bias\n",
    "    second_term = derivativeSig(input_for_last_layer)\n",
    "    first_two_term_from_error = first_term * second_term\n",
    "\n",
    "    changes = np.array([[0.0], [0.0]])\n",
    "    for i in range(2):\n",
    "        for j in range(4):\n",
    "            changes[i][0] += first_two_term_from_error[j][0] * output0[j][i]\n",
    "\n",
    "\n",
    "    weights = weights - lr*changes\n",
    "    bias_change = 0.0\n",
    "    for j in range(4):\n",
    "        bias_change += first_two_term_from_error[j][0] * 1\n",
    "    bias = bias - lr*bias_change\n",
    "    \n",
    "output  = sig(np.dot(x, weights)+bias)\n",
    "weights,bias,output"
   ]
  },
  {
   "cell_type": "code",
   "execution_count": 11,
   "metadata": {},
   "outputs": [
    {
     "data": {
      "text/plain": [
       "(array([[5.48035229],\n",
       "        [5.48035227]]), array([-8.31321643]), array([[2.45193798e-04],\n",
       "        [5.55738801e-02],\n",
       "        [5.55738813e-02],\n",
       "        [9.33856005e-01]]))"
      ]
     },
     "execution_count": 11,
     "metadata": {},
     "output_type": "execute_result"
    }
   ],
   "source": [
    "for iter in range(10000):\n",
    "    output0 =x\n",
    "    output = sig(np.dot(output0, weights)+bias)\n",
    "\n",
    "    first_term = output - y\n",
    "    input_for_last_layer = np.dot(output0, weights)+bias\n",
    "    second_term = derivativeSig(input_for_last_layer)\n",
    "    first_two_term_from_error = first_term * second_term\n",
    "\n",
    "    changes = np.dot(output0.T, first_two_term_from_error)\n",
    "  \n",
    "\n",
    "    weights = weights - lr*changes\n",
    "    bias_change = np.sum(first_two_term_from_error)\n",
    "    \n",
    "\n",
    "    bias = bias - lr*bias_change\n",
    "    \n",
    "output  = sig(np.dot(x, weights)+bias)\n",
    "weights,bias,output"
   ]
  }
 ],
 "metadata": {
  "kernelspec": {
   "display_name": "Python 3",
   "language": "python",
   "name": "python3"
  },
  "language_info": {
   "codemirror_mode": {
    "name": "ipython",
    "version": 3
   },
   "file_extension": ".py",
   "mimetype": "text/x-python",
   "name": "python",
   "nbconvert_exporter": "python",
   "pygments_lexer": "ipython3",
   "version": "3.7.3"
  }
 },
 "nbformat": 4,
 "nbformat_minor": 2
}
